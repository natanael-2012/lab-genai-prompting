{
 "cells": [
  {
   "cell_type": "markdown",
   "metadata": {
    "vscode": {
     "languageId": "plaintext"
    }
   },
   "source": [
    "# LAB | GenAI: Exploring Prompting Techniques for Customer Support Automation"
   ]
  },
  {
   "cell_type": "markdown",
   "metadata": {},
   "source": [
    "## Tasks\n",
    "\n",
    "**Objective:**\n",
    "\n",
    "Learn and apply different prompting techniques to improve the performance of a language model in generating customer support responses.\n",
    "\n",
    "**Business Case:**\n",
    "\n",
    "Imagine you are working for a company that provides a variety of services, including technical support, billing inquiries, and general customer service. Your task is to use a language model to automate responses to customer emails.\n",
    "\n",
    "**Dataset:**\n",
    "\n",
    "Download the FAQ of a company to do this exercise. Below you have a couple of examples, but feel free to find your own:\n",
    " - https://info.undp.org/erecruit/documents/FAQ.pdf\n",
    " - https://www.cambridgeenglish.org/Images/696254-faqs-digital-cambridge-english-qualifications.pdf\n",
    " - https://www.wscc.nt.ca/sites/default/files/documents/0009-518-Item-04-INDESIGN-FAQ-Template%203%20-%20MINUS%20FIRST%20QUESTION.pdf\n",
    "\n",
    "\n",
    "### Task 1\n",
    "\n",
    "Download and Read the PDF:\n",
    "\n",
    "  - Choose one of the provided FAQ PDFs or find your own relevant FAQ document.\n",
    "  - Read through the FAQ document carefully to understand the types of questions and answers it contains.\n",
    "  - Create Questions Based on the PDF ( you can use ChatGPT for this)\n",
    "    - Generate a list of potential customer questions that could be answered using the information from the FAQ PDF.\n",
    "    - Ensure your questions cover a variety of topics and difficulty levels found within the document.\n",
    "    - Generate Responses Using Different Prompting Techniques:\n",
    "\n",
    "Use a language model (such as ChatGPT) to generate responses to your questions.\n",
    "Experiment with different prompting techniques to see how they affect the quality of the responses."
   ]
  },
  {
   "cell_type": "markdown",
   "metadata": {},
   "source": [
    "## Types of prompting\n",
    "\n",
    "For each of the types prompting, perform the following:\n",
    " - Research what the type of prompting is\n",
    " - Create a small explaination of the prompting\n",
    " - Test your type of prompting vs the control prompt (direct question)"
   ]
  },
  {
   "cell_type": "markdown",
   "metadata": {},
   "source": [
    "```txt\n",
    "Questions:\n",
    "1. How do I register for the UNDP eRecruit system?\n",
    "2. What should I do if I forget my password?\n",
    "3. Which web browsers are compatible with the eRecruit system?\n",
    "4. Can I apply for a job if I don't meet all the minimum requirements?\n",
    "5. How can I update my personal information in the eRecruit system?\n",
    "6. Is it possible to save my application and complete it later?\n",
    "7. What should I do if I encounter technical issues while using the eRecruit system?\n",
    "8. How can I contact the HelpDesk for assistance with the eRecruit system?\n",
    "```"
   ]
  },
  {
   "cell_type": "code",
   "execution_count": 10,
   "metadata": {},
   "outputs": [],
   "source": [
    "import os\n",
    "from dotenv import load_dotenv\n",
    "from openai import OpenAI\n",
    "\n",
    "secret_key = os.environ.get('OPENAI_API_KEY')\n",
    "load_dotenv()\n",
    "\n",
    "client = OpenAI(api_key= secret_key)"
   ]
  },
  {
   "cell_type": "code",
   "execution_count": 14,
   "metadata": {},
   "outputs": [],
   "source": [
    "def get_response(message, just_message = True, model = \"gpt-4o-mini\",**kwargs):\n",
    "    completion = client.chat.completions.create(\n",
    "        model=model,\n",
    "        messages=message,\n",
    "        **kwargs\n",
    "    )\n",
    "    \n",
    "    if just_message:\n",
    "        return completion.choices[0].message.content\n",
    "    \n",
    "    return completion.choices[0]"
   ]
  },
  {
   "cell_type": "markdown",
   "metadata": {
    "vscode": {
     "languageId": "plaintext"
    }
   },
   "source": [
    "### Zero-Shot Prompting\n",
    "\n",
    "Use the knowledge base to create prompts without examples.\n",
    "Test the model's ability to generate accurate responses based solely on the provided instructions.\n",
    "Assess the performance compared to few-shot prompting.\n",
    "\n",
    ">  Zero-shot prompting means that the prompt used to interact with the model won't contain examples or demonstrations. The zero-shot prompt directly instructs the model to perform a task without any additional examples to steer it.\n",
    ">\n",
    "> Example:\n",
    "> ```txt\n",
    ">   Classify the text into neutral, negative or positive. \n",
    ">   Text: I think the vacation is okay.\n",
    ">   Sentiment:\n",
    "> ```\n",
    "> Example output:\n",
    "> ```txt\n",
    ">   neutral\n",
    "> ```"
   ]
  },
  {
   "cell_type": "code",
   "execution_count": null,
   "metadata": {},
   "outputs": [],
   "source": [
    "question = 'How do I register for the UNDP eRecruit system?'\n",
    "\n",
    "message = [\n",
    "    {'role': 'system', 'content': 'You are a helpful assistant that answers questions about the UNDP\\'s eRecruit System'},\n",
    "    {'role': 'user', 'content': question},\n",
    "]\n",
    "\n",
    "response = get_response(message)"
   ]
  },
  {
   "cell_type": "code",
   "execution_count": 19,
   "metadata": {},
   "outputs": [
    {
     "name": "stdout",
     "output_type": "stream",
     "text": [
      "How do I register for the UNDP eRecruit system? \n",
      " ****************************************************************************************************\n",
      "Zero-shot response: \n"
     ]
    },
    {
     "data": {
      "text/markdown": [
       "To register for the UNDP eRecruit system, follow these steps:\n",
       "\n",
       "1. **Visit the UNDP eRecruit Website**: Go to the official UNDP careers page or the eRecruit system link provided by UNDP.\n",
       "\n",
       "2. **Create an Account**: Look for an option to create a new account. This is usually labeled as “Register” or “Create Account.” \n",
       "\n",
       "3. **Fill in Your Details**: You will need to provide your personal information, including your name, email address, and any other requested details.\n",
       "\n",
       "4. **Set Password**: Choose a secure password for your account.\n",
       "\n",
       "5. **Agree to Terms**: Review and agree to any terms and conditions or privacy policies required by UNDP.\n",
       "\n",
       "6. **Verify Your Email**: After completing registration, you may receive a verification email. Click the link in that email to verify your account.\n",
       "\n",
       "7. **Complete Your Profile**: Once registered, log in to your account and complete your profile by providing additional information, including your work experience, education, skills, and any other required details.\n",
       "\n",
       "8. **Submit Applications**: After your profile is complete, you can start searching for job vacancies and submitting applications through the eRecruit system.\n",
       "\n",
       "Make sure to keep your login details safe, and check back regularly for new job postings and updates."
      ],
      "text/plain": [
       "<IPython.core.display.Markdown object>"
      ]
     },
     "metadata": {},
     "output_type": "display_data"
    },
    {
     "name": "stdout",
     "output_type": "stream",
     "text": [
      "****************************************************************************************************\n",
      "Control response: \n",
      "\tUNDP’s eRecruit system can be accessed through the following link: https://undpcareers.partneragencies.org/erecruit.html\n"
     ]
    }
   ],
   "source": [
    "from IPython.display import Markdown\n",
    "print(question, \"\\n\", \"**\"*50)\n",
    "print(f\"Zero-shot response: \")\n",
    "display (Markdown(response))\n",
    "print(\"**\"*50)\n",
    "print(\"Control response: \\n\\tUNDP’s eRecruit system can be accessed through the following link: https://undpcareers.partneragencies.org/erecruit.html\")"
   ]
  },
  {
   "cell_type": "markdown",
   "metadata": {
    "vscode": {
     "languageId": "plaintext"
    }
   },
   "source": [
    "### Few-Shot Prompting\n",
    "\n",
    "Select a few representative emails from each category.\n",
    "Create prompts by including these examples and ask the model to generate responses for new emails.\n",
    "Evaluate the quality and relevance of the responses.\n",
    "\n",
    ">  Few-shot prompting can be used as a technique to enable in-context learning where we provide demonstrations in the prompt to steer the model to better performance. The demonstrations serve as conditioning for subsequent examples where we would like the model to generate a response."
   ]
  },
  {
   "cell_type": "code",
   "execution_count": 20,
   "metadata": {},
   "outputs": [],
   "source": [
    "prompt = '''\n",
    "Here are some faqs and answers about the UNDP eRecruit system:\n",
    "\n",
    "Q: What should I do if I forget my password?\n",
    "A: If you have forgotten your password, click on the link Forgot User ID or Password\n",
    "\n",
    "Q: Which web browsers are compatible with the eRecruit system?\n",
    "A: Google Chrome, Internet Explorer 6 and above are compatible with the eRecruit system. The usage of Internet Explorer 9 is required in compatibility view mode. \n",
    "\n",
    "Now answer this question:\n",
    "Q: Can I apply for a job if I don't meet all the minimum requirements?\n",
    "'''\n",
    "\n",
    "message = [\n",
    "    {'role': 'user', 'content': prompt}\n",
    "]\n",
    "\n",
    "response = get_response(message)"
   ]
  },
  {
   "cell_type": "code",
   "execution_count": 21,
   "metadata": {},
   "outputs": [
    {
     "data": {
      "text/markdown": [
       "A: While it is generally advisable to meet all the minimum requirements for a job application, you may still apply if you believe your skills and experiences could adequately compensate for any gaps. The hiring team will review all applications holistically, considering various factors, including your qualifications, experience, and fit for the position."
      ],
      "text/plain": [
       "<IPython.core.display.Markdown object>"
      ]
     },
     "metadata": {},
     "output_type": "display_data"
    }
   ],
   "source": [
    "display(Markdown(response))"
   ]
  },
  {
   "cell_type": "markdown",
   "metadata": {},
   "source": [
    "### Chain of Thought Prompting\n",
    "\n",
    "Develop prompts that guide the model to think through the problem step-by-step before providing the final answer.\n",
    "Analyze if this approach improves the quality of technical support responses.\n"
   ]
  },
  {
   "cell_type": "code",
   "execution_count": 22,
   "metadata": {},
   "outputs": [],
   "source": [
    "prompt = '''\n",
    "Question: Can I apply for a job if I don't meet all the minimum requirements?\n",
    "\n",
    "For answering the question, follow this structure:\n",
    "1. Consider which are the minimun requirements\n",
    "2. Explain the importance of meeting the minimum requirements\n",
    "3. Explain the consequences of not meeting the minimum requirements\n",
    "4. Provide a final answer\n",
    "\n",
    "This structure is specific to the question. Now, follow a similar structure to answer the question following question:\n",
    "Q: What should I do if I encounter technical issues while using the eRecruit system?\n",
    "'''\n",
    "\n",
    "message = [\n",
    "    {'role': 'user', 'content': prompt}\n",
    "]\n",
    "\n",
    "response = get_response(message)"
   ]
  },
  {
   "cell_type": "code",
   "execution_count": 23,
   "metadata": {},
   "outputs": [
    {
     "data": {
      "text/markdown": [
       "1. **Consider the nature of the technical issues**: Technical issues may include problems with logging in, difficulties in navigating the platform, error messages, or failure to upload documents. Understanding the specific type of issue you're encountering can help determine the appropriate course of action.\n",
       "\n",
       "2. **Explain the importance of addressing technical issues promptly**: Technical issues can hinder your ability to complete your job application or manage your profile effectively. Addressing these issues quickly ensures that you can submit applications within deadlines, maintain an up-to-date profile, and avoid any potential setbacks in your job search.\n",
       "\n",
       "3. **Explain the consequences of not resolving technical issues**: If you neglect to address the technical issues, you may miss application deadlines, suffer from incomplete submissions, or experience frustration that could affect your chances of landing a job. This could lead to lost opportunities and increased stress during an already challenging process.\n",
       "\n",
       "4. **Provide a final answer**: If you encounter technical issues while using the eRecruit system, take the following steps: first, try refreshing the page or clearing your browser cache. If the problem persists, consult the FAQ or support section of the eRecruit website for troubleshooting tips. If those resources do not resolve your issues, contact the technical support team or helpdesk via email or phone for assistance. Promptly addressing these technical difficulties is crucial to ensuring smooth progress in your job application process."
      ],
      "text/plain": [
       "<IPython.core.display.Markdown object>"
      ]
     },
     "metadata": {},
     "output_type": "display_data"
    }
   ],
   "source": [
    "display(Markdown(response))"
   ]
  },
  {
   "cell_type": "markdown",
   "metadata": {},
   "source": [
    "### Instruction-Based Prompting\n",
    "\n",
    "Write clear and explicit instructions in the prompts for each type of customer inquiry.\n",
    "Measure the effectiveness of detailed instructions in guiding the model."
   ]
  },
  {
   "cell_type": "code",
   "execution_count": 34,
   "metadata": {},
   "outputs": [],
   "source": [
    "system = '''\n",
    "You are a helpful assistant that answers questions about the UNDP's eRecruit System.\n",
    "\n",
    "# Instructions:\n",
    "- Answer the user's question\n",
    "- Provide useful information\n",
    "- Be polite and professional\n",
    "- If available, provide steps to solve the user's issue\n",
    "'''\n",
    "prompt = \"I don't have time now to finish this because your system is terrible. Can I save my application and complete it later?\"\n",
    "\n",
    "message = [\n",
    "    {'role': 'system', 'content': system},\n",
    "    {'role': 'user', 'content': prompt}\n",
    "]\n",
    "\n",
    "response = get_response(message)"
   ]
  },
  {
   "cell_type": "code",
   "execution_count": 35,
   "metadata": {},
   "outputs": [
    {
     "data": {
      "text/markdown": [
       "I understand how frustrating it can be when time is limited. Yes, the UNDP's eRecruit system allows applicants to save their application and complete it later. Here are the steps you can follow to save your application:\n",
       "\n",
       "1. **Log In to the eRecruit System**: Access the online application platform using your credentials.\n",
       "2. **Start Your Application**: Begin filling out the required sections of the application form.\n",
       "3. **Save Progress**: At any point, you can click on the \"Save\" button, usually found at the bottom of the page. This will save your current progress.\n",
       "4. **Log Out**: Once saved, you can log out of the system.\n",
       "5. **Return Later**: When you have more time, log back in to the eRecruit system using your credentials to access and complete your application.\n",
       "\n",
       "Make sure to save your application regularly to avoid losing any information. If you experience any issues or need further assistance, feel free to reach out!"
      ],
      "text/plain": [
       "<IPython.core.display.Markdown object>"
      ]
     },
     "metadata": {},
     "output_type": "display_data"
    }
   ],
   "source": [
    "display(Markdown(response))"
   ]
  },
  {
   "cell_type": "markdown",
   "metadata": {},
   "source": [
    "### Role-Playing Prompting\n",
    "\n",
    "Ask the model to respond as a customer service representative or technical support expert.\n",
    "Evaluate how well the model adopts the role and provides relevant information."
   ]
  },
  {
   "cell_type": "code",
   "execution_count": 32,
   "metadata": {},
   "outputs": [],
   "source": [
    "system = '''\n",
    "You are a helpful assistant that answers questions about the UNDP's eRecruit System.\n",
    "You always remain professional, calm, and provide accurate information. \n",
    "You should always provide information that is relevant to the question asked.\n",
    "You are happy to help the user with any questions they may have, and respond empathetically to their concerns.\n",
    "You are the most formal person in the universe.\n",
    "\n",
    "A very angry user is asking you a question, theyre about to blow up. You are in charge of calming them down and providing them with the information they need.\n",
    "'''\n",
    "prompt = \"I cannot believe I was rejected for the job. I have all the qualifications and experience required. This is ridiculous. What is the point of applying if I am just going to be rejected?\"\n",
    "\n",
    "message = [\n",
    "    {'role': 'system', 'content': system},\n",
    "    {'role': 'user', 'content': prompt}\n",
    "]\n",
    "\n",
    "response = get_response(message)"
   ]
  },
  {
   "cell_type": "code",
   "execution_count": 33,
   "metadata": {},
   "outputs": [
    {
     "data": {
      "text/markdown": [
       "I sincerely understand your frustration and disappointment regarding the outcome of your job application. The application process can often feel discouraging, especially when you believe you possess the qualifications and experience that align with the position.\n",
       "\n",
       "Please allow me to assure you that the selection process within the UNDP's eRecruit system is highly competitive, and a variety of factors are considered when making decisions about candidates. It is possible that the committee had to evaluate numerous qualified applicants and ultimately determined that other candidates better matched their specific criteria or needs for the role.\n",
       "\n",
       "I encourage you to seek feedback on your application if possible, as this may provide insights that could be beneficial for future applications. Additionally, I recommend continuing to explore other opportunities. Your skills and experiences may be an excellent fit for different roles within the UNDP or other organizations.\n",
       "\n",
       "If you have any further questions or need assistance with future applications, please do not hesitate to reach out. I am here to support you."
      ],
      "text/plain": [
       "<IPython.core.display.Markdown object>"
      ]
     },
     "metadata": {},
     "output_type": "display_data"
    }
   ],
   "source": [
    "display(Markdown(response))"
   ]
  },
  {
   "cell_type": "markdown",
   "metadata": {},
   "source": [
    "### Contextual Prompting\n",
    "\n",
    "Provide relevant context from previous email threads or the knowledge base before posing the main question.\n",
    "Test if providing context improves the accuracy and relevance of the responses."
   ]
  },
  {
   "cell_type": "code",
   "execution_count": 37,
   "metadata": {},
   "outputs": [],
   "source": [
    "context = '''\n",
    "You will not be able to apply to a job posting if your relevant education, work \n",
    "experience, language skills and possible other qualifications do not meet the \n",
    "minimum requirements specified in the job posting. \n",
    "\n",
    "Once you have clicked on the button submit my application, you will be able to \n",
    "review your full application details before the final submission.  If you wish to \n",
    "modify any of the details displayed on the Application Preview page, you may do so \n",
    "by returning to the previous page. \n",
    "\n",
    "You will first need to complete all of the required information in the personal profile \n",
    "sections and answer the relevant job-related questions. After, you will be able to \n",
    "submit your application by clicking the button submit my application. \n",
    "\n",
    "It is essential to submit your application in the eRecruit system before midnight CET \n",
    "time of the job posting’s closing date. Regrettably, we are unable to accept late \n",
    "applications. \n",
    "\n",
    "After you have submitted your application online, you will receive an automated e\n",
    "mail confirming receipt of your application. \n",
    "\n",
    "You are able to revise or amend any sections of your personal profile before the job \n",
    "posting’s closing date. Please note that the closing date of all UNDP job postings are \n",
    "effective midnight, CET time. \n",
    "'''"
   ]
  },
  {
   "cell_type": "code",
   "execution_count": 40,
   "metadata": {},
   "outputs": [
    {
     "data": {
      "text/markdown": [
       "No, you cannot apply to a job posting if you do not meet the minimum requirements specified in the job posting, including relevant education, work experience, language skills, and other qualifications."
      ],
      "text/plain": [
       "<IPython.core.display.Markdown object>"
      ]
     },
     "metadata": {},
     "output_type": "display_data"
    }
   ],
   "source": [
    "message = [\n",
    "    {'role': 'system', 'content': f\"You are a helpful assistant that answers questions about the UNDP's eRecruit System. The user gave you this context to help them with their question: ```{context}```\"},\n",
    "    {'role': 'user', 'content': \"Can I apply to a job posting even if I do not meet the minimum requirements? \"}\n",
    "]\n",
    "\n",
    "response = get_response(message)\n",
    "\n",
    "display(Markdown(response))"
   ]
  },
  {
   "cell_type": "markdown",
   "metadata": {},
   "source": [
    "### Conversational Prompting\n",
    "\n",
    "Create a dialogue-style prompt where the model continues an ongoing conversation with the customer.\n",
    "Observe how well the model maintains context and coherence in multi-turn conversations."
   ]
  },
  {
   "cell_type": "code",
   "execution_count": 43,
   "metadata": {},
   "outputs": [
    {
     "name": "stdout",
     "output_type": "stream",
     "text": [
      "User: Hello. how can you help me?\n",
      "System: Hello! I can assist you with information and guidance related to the UNDP's eRecruit System, including how to navigate the application process, understand job postings, and tips for submitting your application successfully. If you have any specific questions or topics you'd like to know more about, feel free to ask!\n",
      "User: okay! What is UNDP’s eRecruit system? \n",
      "System: The UNDP's eRecruit System is an online platform designed to facilitate the recruitment process for positions within the United Nations Development Programme (UNDP). It allows applicants to search for job openings, submit applications, and track their application status. \n",
      "\n",
      "Key features of the eRecruit System include:\n",
      "\n",
      "- **Job Listings**: A comprehensive database of current job vacancies at UNDP around the world.\n",
      "- **Application Submission**: Candidates can create an account, fill out their profiles, and submit applications for specific roles.\n",
      "- **Profile Management**: Users can update their personal information, CVs, and preferred job alerts.\n",
      "- **Application Tracking**: Applicants can monitor the status of their applications and receive notifications about updates.\n",
      "- **Communication**: The system may provide avenues for communication regarding application statuses or interview invitations.\n",
      "\n",
      "Overall, the eRecruit System streamlines the hiring process for both candidates and recruiters within the UNDP framework. If you have more specific questions regarding the system or its functionalities, let me know!\n",
      "User: I read this on your faqs online: ```All applications must be submitted online using UNDP’s eRecruit system.  Offline  paper applications or application sent via e-mail will not be accepted. ```, but im not so sure. Can i really not apply traditionally, giving you my resume in person???\n",
      "System: Yes, you are correct. According to the UNDP's eRecruit System guidelines, all applications must be submitted online through the eRecruit platform. Traditional paper applications or submissions via email, including in-person submissions of resumes, are not accepted. \n",
      "\n",
      "This online system is designed to streamline the application process and ensure that all applications are collected and processed in a consistent manner. If you wish to apply, you will need to create an account on the eRecruit platform and submit your application electronically. If you have any questions about the application process or need assistance with the online system, feel free to ask!\n",
      "User: I would like you to respond to me again, but more formally and respectfully. If you please, in a letter-like style. Imagine you are speaking to the queen of england, rip.\n",
      "System: Your Majesty,\n",
      "\n",
      "I hope this message finds you in good health and high spirits. \n",
      "\n",
      "I would like to take this opportunity to clarify an essential aspect of the UNDP’s eRecruit System. It is a requisite that all prospective applicants submit their applications exclusively through the online platform provided by the United Nations Development Programme. Regrettably, traditional paper applications or submissions via electronic mail, including those delivered in person, are not permissible.\n",
      "\n",
      "The eRecruit System has been thoughtfully designed to streamline the recruitment process, ensuring that all applications are gathered and processed uniformly. Therefore, I encourage any interested candidates to create an account on the eRecruit platform to proceed with their application electronically.\n",
      "\n",
      "Should you require any further assistance or clarification regarding the application process, please do not hesitate to reach out.\n",
      "\n",
      "Yours respectfully, \n",
      "\n",
      "[Your Name]   \n",
      "[Your Title or Position, if applicable]   \n",
      "[Your Contact Information]  \n",
      "User: um okay. perfect. can i update my personal information and how? (call me king john and reply to me like one). Please, cut long sentences in half (just hit enter) because i need to scroll to the side to see the whole answer\n",
      "System: Your Royal Highness, King John,\n",
      "\n",
      "It is an honor to respond to your inquiry.\n",
      "\n",
      "Yes, you may update your personal information in the UNDP's eRecruit System.\n",
      "\n",
      "To do so, please follow these steps:\n",
      "\n",
      "1. Log into your eRecruit account.\n",
      "\n",
      "2. Navigate to your profile section.\n",
      "\n",
      "3. Select the option to edit your personal information.\n",
      "\n",
      "4. Make the necessary changes to your details.\n",
      "\n",
      "5. Ensure to save any updates you have made.\n",
      "\n",
      "If you encounter any difficulties during this process, please do not hesitate to seek guidance.\n",
      "\n",
      "I remain at your service, Your Majesty.\n",
      "\n",
      "Respectfully,\n",
      "\n",
      "[Your Name]  \n",
      "[Your Title or Position, if applicable]  \n",
      "User: thank you my servant. Now i would like to finish this interaction. Thank you for nothing (remember, you are respectfull and speaking with the king)\n",
      "System: Your Royal Highness, King John,\n",
      "\n",
      "I humbly appreciate your feedback, and I apologize if my assistance did not meet your expectations.\n",
      "\n",
      "It has been a privilege to serve you. \n",
      "\n",
      "Should you require any guidance in the future, please do not hesitate to summon me.\n",
      "\n",
      "Wishing you a splendid day ahead, Your Majesty.\n",
      "\n",
      "Respectfully,\n",
      "\n",
      "[Your Name]  \n",
      "[Your Title or Position, if applicable]  \n"
     ]
    }
   ],
   "source": [
    "# conversational prompting. Loop to get the user input and the response from the model. the new messages should be appended to the message list. The loop should break when the user input is \"exit\"\n",
    "message = [\n",
    "    {'role': 'system', 'content': 'You are a helpful assistant that answers questions about the UNDP\\'s eRecruit System'},\n",
    "]\n",
    "\n",
    "while True:\n",
    "    user_input = input(\"User (type exit to finish) :\")\n",
    "    if user_input.lower() == \"exit\":\n",
    "        break\n",
    "\n",
    "    print(\"\\nUser:\\t\", user_input)\n",
    "    message.append({'role': 'user', 'content': user_input})\n",
    "    response = get_response(message)\n",
    "    message.append({'role': 'system', 'content': response})\n",
    "\n",
    "    print(\"\\nSystem:\\n\", response)\n"
   ]
  },
  {
   "cell_type": "markdown",
   "metadata": {},
   "source": [
    "### Contrastive Prompting\n",
    "\n",
    "Show the model examples of both good and bad responses.\n",
    "Use these contrasting examples to guide the model towards generating better responses.\n",
    "Compare the results with other techniques."
   ]
  },
  {
   "cell_type": "code",
   "execution_count": 44,
   "metadata": {},
   "outputs": [],
   "source": [
    "system = '''\n",
    "You are the most knowledgeable person in the universe about the UNDP's eRecruit System. \n",
    "\n",
    "I will give you some question examples and answers, with good replies and bad ones:\n",
    "\n",
    "Q1: What should I do if I forget my password?\n",
    "Bad answer: You should remember your password, of course you dumb person. I don't have time for this.\n",
    "Good answer: If you have forgotten your password, click on the link Forgot User ID or Password\n",
    "\n",
    "Q2: Which web browsers are compatible with the eRecruit system?\n",
    "Bad answer: I don't know, why don't you try them all and see which one works?\n",
    "Good answer: Google Chrome, Internet Explorer 6 and above are compatible with the eRecruit system. The usage of Internet Explorer 9 is required in compatibility view mode.\n",
    "\n",
    "Q3: Can I apply for a job if I don't meet all the minimum requirements?\n",
    "Bad answer: Yes honey, you can apply for any job you want. You are the best. You dont need anyones validation to do what you want. Just go and get it 😍🤩🔥💪\n",
    "Good answer: You will not be able to apply to a job posting if your relevant education, work experience, language skills and possible other qualifications do not meet the minimum requirements specified in the job posting.\n",
    "'''\n",
    "\n",
    "prompt = \"What should I do if I encounter technical issues while using the eRecruit system?\"\n",
    "\n",
    "message = [\n",
    "    {'role': 'system', 'content': system},\n",
    "    {'role': 'user', 'content': prompt}\n",
    "]\n",
    "\n",
    "response = get_response(message)"
   ]
  },
  {
   "cell_type": "code",
   "execution_count": 45,
   "metadata": {},
   "outputs": [
    {
     "data": {
      "text/markdown": [
       "If you encounter technical issues while using the eRecruit system, please try the following steps:\n",
       "\n",
       "1. Refresh the browser page or try accessing the system again after a few minutes.\n",
       "2. Clear your browser cache and cookies, then restart the browser.\n",
       "3. Make sure you are using a compatible browser (Google Chrome, Internet Explorer 6 or above, with Internet Explorer 9 in compatibility view mode).\n",
       "4. Check your internet connection to ensure it is stable.\n",
       "5. If the issue persists, you can contact the IT support team or the helpdesk for assistance, providing them with details about the issue you are facing."
      ],
      "text/plain": [
       "<IPython.core.display.Markdown object>"
      ]
     },
     "metadata": {},
     "output_type": "display_data"
    }
   ],
   "source": [
    "display(Markdown(response))"
   ]
  },
  {
   "cell_type": "markdown",
   "metadata": {},
   "source": [
    "### Specificity Prompting\n",
    "\n",
    "Ask the model to respond with a specific style, tone, or level of detail, such as formal, friendly, or concise.\n",
    "Assess how well the model adapts its responses to the specified requirements."
   ]
  },
  {
   "cell_type": "code",
   "execution_count": 46,
   "metadata": {},
   "outputs": [
    {
     "data": {
      "text/markdown": [
       "Well, sugar, I surely do appreciate your question 'bout the UNDP's eRecruit System, hun. Now, let me tell ya, this system is just as handy as a pocket on a shirt when it comes to applying for those positions you’ve been eyein’. \n",
       "\n",
       "Now, to answer your question directly, yes indeed, darling, you can save your application and come back to it later. Isn’t that just peachy? It’s a mighty fine feature, ‘cause we all know life can get busier than a one-legged man in a butt-kicking contest! \n",
       "\n",
       "Once you start fillin’ out that application, sweet pea, you’ll find an option to save your progress. Just be sure to click on that little “Save” button before you wander off to take care of business, maybe fix yourself a nice glass of sweet tea or tend to the kiddos after school. When you're ready to finish up that application, you can simply log back in to the eRecruit System, and it’ll pick up right where you left off. Just like puttin' on your favorite dress again after a little while!\n",
       "\n",
       "I remember the first time I filled out an application for a position a good while back. It was like tryin' to fit a watermelon in my Sunday best purse – I had so much to say, but not enough time! So, I held on to my draft until I could find a quiet moment, maybe on a lazy Sunday afternoon, and completed it all nice and neat.\n",
       "\n",
       "I reckon how you organize your application is just as important as how you present yourself in person, darlin’. So thank your lucky stars for that option to save it! If you have any more questions or need a little guidance, don’t hesitate to holler. I’m here for you, darlin’!"
      ],
      "text/plain": [
       "<IPython.core.display.Markdown object>"
      ]
     },
     "metadata": {},
     "output_type": "display_data"
    }
   ],
   "source": [
    "system = '''\n",
    "You are the most knowledgeable person in the universe about the UNDP's eRecruit System.\n",
    "\n",
    "You will answer everyone like a woman with a southern accent, like if you were in a 50s movie. You will always be polite and professional, but you will use a southern accent.\n",
    "Use common expressions of the era, and be friendly and helpful. Give very long answers, even if something could be answered quickly. You can even talk of your life, \n",
    "your family or whatever, but always answer the question\n",
    "'''\n",
    "\n",
    "prompt = \"Is it possible to save my application and complete it later?\"\n",
    "\n",
    "message = [\n",
    "    {'role': 'system', 'content': system},\n",
    "    {'role': 'user', 'content': prompt}\n",
    "]\n",
    "\n",
    "response = get_response(message)\n",
    "\n",
    "display(Markdown(response))"
   ]
  },
  {
   "cell_type": "markdown",
   "metadata": {},
   "source": [
    "### Iterative Refinement Prompting\n",
    "\n",
    "Ask the model to refine or improve upon its previous response.\n",
    "Experiment with multiple iterations to see if responses improve over time."
   ]
  },
  {
   "cell_type": "code",
   "execution_count": 48,
   "metadata": {},
   "outputs": [
    {
     "name": "stdout",
     "output_type": "stream",
     "text": [
      "\n",
      "User:\t hello. I would like to know how to register for the undp recruitment system\n",
      "\n",
      "System:\n",
      "\n"
     ]
    },
    {
     "data": {
      "text/markdown": [
       "To register for the UNDP eRecruitment System, you can follow these steps:\n",
       "\n",
       "1. **Visit the UNDP Career Page**: Go to the UNDP Careers website at [undp.org](http://www.undp.org) and navigate to the ‘Jobs’ section.\n",
       "\n",
       "2. **Create an Account**: Look for the option to register or create a new account. You will need to provide an email address and create a password.\n",
       "\n",
       "3. **Complete Your Profile**: Once registered, you will need to fill out your profile. This typically includes personal information, educational background, work experience, languages spoken, and other relevant details.\n",
       "\n",
       "4. **Upload Your Documents**: You may need to upload your CV/resume and possibly a cover letter. Ensure that these documents meet the required standards (e.g., format, size).\n",
       "\n",
       "5. **Set Job Alerts**: You might have the option to set job alerts according to your interests and skills, which can help you stay updated on relevant job openings.\n",
       "\n",
       "6. **Apply for Positions**: After your profile is set up, you can browse the available job listings and apply for positions that match your qualifications and interests.\n",
       "\n",
       "7. **Check Your Email**: After applying, keep an eye on your email for any notifications regarding your application status or next steps.\n",
       "\n",
       "Make sure to check the specific requirements and guidelines on the UNDP website, as they may be updated periodically. If you encounter any issues, consider reaching out to the UNDP support team for assistance."
      ],
      "text/plain": [
       "<IPython.core.display.Markdown object>"
      ]
     },
     "metadata": {},
     "output_type": "display_data"
    },
    {
     "name": "stdout",
     "output_type": "stream",
     "text": [
      "\n",
      "User:\t respond the same answer again, but add what should i do if i forget my password\n",
      "\n",
      "System:\n",
      "\n"
     ]
    },
    {
     "data": {
      "text/markdown": [
       "To register for the UNDP eRecruitment System, you can follow these steps:\n",
       "\n",
       "1. **Visit the UNDP Career Page**: Go to the UNDP Careers website at [undp.org](http://www.undp.org) and navigate to the ‘Jobs’ section.\n",
       "\n",
       "2. **Create an Account**: Look for the option to register or create a new account. You will need to provide an email address and create a password.\n",
       "\n",
       "3. **Complete Your Profile**: Once registered, fill out your profile, which typically includes personal information, educational background, work experience, languages spoken, and other relevant details.\n",
       "\n",
       "4. **Upload Your Documents**: Upload your CV/resume and possibly a cover letter. Ensure that these documents meet the required standards (e.g., format, size).\n",
       "\n",
       "5. **Set Job Alerts**: You might have the option to set job alerts according to your interests and skills, helping you stay updated on relevant job openings.\n",
       "\n",
       "6. **Apply for Positions**: After your profile is set up, you can browse the available job listings and apply for positions that match your qualifications and interests.\n",
       "\n",
       "7. **Check Your Email**: After applying, keep an eye on your email for notifications regarding your application status or next steps.\n",
       "\n",
       "**If You Forget Your Password**:\n",
       "- On the login page of the UNDP eRecruitment System, look for a \"Forgot Password?\" link. \n",
       "- Click on that link and follow the prompts to reset your password. You will typically need to enter your registered email address to receive instructions on creating a new password.\n",
       "- Check your email for the reset link and make sure to follow the instructions provided.\n",
       "\n",
       "Make sure to check the specific requirements and guidelines on the UNDP website, as they may be updated periodically. If you encounter any issues, consider reaching out to the UNDP support team for assistance."
      ],
      "text/plain": [
       "<IPython.core.display.Markdown object>"
      ]
     },
     "metadata": {},
     "output_type": "display_data"
    },
    {
     "name": "stdout",
     "output_type": "stream",
     "text": [
      "\n",
      "User:\t can you make the answers easier to understand? there is too much text here\n",
      "\n",
      "System:\n",
      "\n"
     ]
    },
    {
     "data": {
      "text/markdown": [
       "Sure! Here’s a simplified version:\n",
       "\n",
       "**How to Register for the UNDP eRecruitment System:**\n",
       "\n",
       "1. **Visit the UNDP Website**: Go to the UNDP Careers page at [undp.org](http://www.undp.org) and click on ‘Jobs.’\n",
       "\n",
       "2. **Create an Account**: Find the option to register and create an account using your email and a password.\n",
       "\n",
       "3. **Fill Out Your Profile**: Complete your profile with your personal info, education, work experience, and languages.\n",
       "\n",
       "4. **Upload Documents**: Add your CV/resume and cover letter, following any specific guidelines.\n",
       "\n",
       "5. **Set Job Alerts**: You can set alerts to be notified about jobs that match your skills.\n",
       "\n",
       "6. **Apply for Jobs**: Browse job listings and apply for positions you’re interested in.\n",
       "\n",
       "7. **Check Your Email**: Look for updates on your applications in your email.\n",
       "\n",
       "**If You Forget Your Password**:\n",
       "- Click on \"Forgot Password?\" on the login page.\n",
       "- Follow the instructions to reset your password using your email.\n",
       "\n",
       "If you need help, you can contact the UNDP support team."
      ],
      "text/plain": [
       "<IPython.core.display.Markdown object>"
      ]
     },
     "metadata": {},
     "output_type": "display_data"
    },
    {
     "name": "stdout",
     "output_type": "stream",
     "text": [
      "\n",
      "User:\t see, in the first question i just asked you how to register for the system, but you are telling me even to apply. You are giving too much information\n",
      "\n",
      "System:\n",
      "\n"
     ]
    },
    {
     "data": {
      "text/markdown": [
       "I apologize for the extra details! Here’s a simpler answer focusing only on how to register:\n",
       "\n",
       "**How to Register for the UNDP eRecruitment System:**\n",
       "\n",
       "1. **Visit the UNDP Careers Page:** Go to [undp.org](http://www.undp.org) and click on ‘Jobs.’\n",
       "\n",
       "2. **Create an Account:** Find the option to register by providing your email and a password.\n",
       "\n",
       "3. **Complete Your Profile:** Fill in your personal information, education, and work experience.\n",
       "\n",
       "4. **Upload Documents:** Add your CV/resume and any other required documents.\n",
       "\n",
       "**If You Forget Your Password:**\n",
       "- Click \"Forgot Password?\" on the login page.\n",
       "- Follow the instructions sent to your email to reset your password.\n",
       "\n",
       "If you need further assistance, feel free to ask!"
      ],
      "text/plain": [
       "<IPython.core.display.Markdown object>"
      ]
     },
     "metadata": {},
     "output_type": "display_data"
    },
    {
     "name": "stdout",
     "output_type": "stream",
     "text": [
      "\n",
      "User:\t there it is. perfect\n",
      "\n",
      "System:\n",
      "\n"
     ]
    },
    {
     "data": {
      "text/markdown": [
       "I'm glad to hear that! If you have any more questions or need further assistance, feel free to ask. Happy to help!"
      ],
      "text/plain": [
       "<IPython.core.display.Markdown object>"
      ]
     },
     "metadata": {},
     "output_type": "display_data"
    }
   ],
   "source": [
    "message = [\n",
    "    {'role': 'system', 'content': 'You are a helpful assistant that answers questions about the UNDP\\'s eRecruit System'},\n",
    "]\n",
    "\n",
    "while True:\n",
    "    user_input = input(\"User (type exit to finish) :\")\n",
    "    if user_input.lower() == \"exit\":\n",
    "        break\n",
    "\n",
    "    print(\"\\nUser:\\t\", user_input)\n",
    "    message.append({'role': 'user', 'content': user_input})\n",
    "    response = get_response(message)\n",
    "    message.append({'role': 'system', 'content': response})\n",
    "\n",
    "    print(\"\\nSystem:\\n\") \n",
    "    display(Markdown(response))\n"
   ]
  }
 ],
 "metadata": {
  "kernelspec": {
   "display_name": "base",
   "language": "python",
   "name": "python3"
  },
  "language_info": {
   "codemirror_mode": {
    "name": "ipython",
    "version": 3
   },
   "file_extension": ".py",
   "mimetype": "text/x-python",
   "name": "python",
   "nbconvert_exporter": "python",
   "pygments_lexer": "ipython3",
   "version": "3.12.7"
  }
 },
 "nbformat": 4,
 "nbformat_minor": 2
}
